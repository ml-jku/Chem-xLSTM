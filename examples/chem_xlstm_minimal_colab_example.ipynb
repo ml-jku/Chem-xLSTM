{
  "cells": [
    {
      "cell_type": "code",
      "execution_count": 2,
      "metadata": {
        "colab": {
          "base_uri": "https://localhost:8080/"
        },
        "id": "0Q8s209Cw_Mw",
        "outputId": "ee659080-4220-432e-e23a-f0507f3116a6"
      },
      "outputs": [
        {
          "name": "stdout",
          "output_type": "stream",
          "text": [
            "Cloning into 'Chem-xLSTM'...\n",
            "remote: Enumerating objects: 107, done.\u001b[K\n",
            "remote: Counting objects: 100% (71/71), done.\u001b[K\n",
            "remote: Compressing objects: 100% (58/58), done.\u001b[K\n",
            "remote: Total 107 (delta 17), reused 61 (delta 11), pack-reused 36 (from 3)\u001b[K\n",
            "Receiving objects: 100% (107/107), 83.74 MiB | 41.93 MiB/s, done.\n",
            "Resolving deltas: 100% (21/21), done.\n"
          ]
        }
      ],
      "source": [
        "# setup - don't forget to use GPU runtime setting\n",
        "!git clone https://github.com/ml-jku/Chem-xLSTM.git\n",
        "!apt-get install -y -qq openbabel\n",
        "!pip -q install rdkit prolif dask scikit-learn\n",
        "%cd Chem-xLSTM\n",
        "!pip install -e ."
      ]
    },
    {
      "cell_type": "code",
      "execution_count": null,
      "metadata": {
        "colab": {
          "base_uri": "https://localhost:8080/"
        },
        "id": "n6FXBmDlyW-p",
        "outputId": "232249b8-a4a6-40ea-d4bd-10764a792708"
      },
      "outputs": [
        {
          "name": "stdout",
          "output_type": "stream",
          "text": [
            "Current working directory:  /content/Chem-xLSTM\n",
            "Total number of parameters:  1.644296 M\n",
            "Total number of (trainable) parameters:  1.644296 M\n",
            "\u001b[34m\u001b[1mwandb\u001b[0m: (1) Create a W&B account\n",
            "\u001b[34m\u001b[1mwandb\u001b[0m: (2) Use an existing W&B account\n",
            "\u001b[34m\u001b[1mwandb\u001b[0m: (3) Don't visualize my results\n",
            "\u001b[34m\u001b[1mwandb\u001b[0m: Enter your choice: 3\n",
            "\u001b[34m\u001b[1mwandb\u001b[0m: You chose \"Don't visualize my results\"\n",
            "\u001b[34m\u001b[1mwandb\u001b[0m: Tracking run with wandb version 0.21.4\n",
            "\u001b[34m\u001b[1mwandb\u001b[0m: W&B syncing is set to \u001b[1m`offline`\u001b[0m in this directory. Run \u001b[1m`wandb online`\u001b[0m or set \u001b[1mWANDB_MODE=online\u001b[0m to enable cloud syncing.\n",
            "\u001b[34m\u001b[1mwandb\u001b[0m: Run data is saved locally in \u001b[35m\u001b[1m/content/Chem-xLSTM/wandb/offline-run-20251001_124207-610ifwsc\u001b[0m\n",
            "Time taken for one forward pass:  0.2344803810119629 s\n",
            "Input shape:  torch.Size([1, 100])\n",
            "Output shape:  torch.Size([1, 100, 37])\n",
            "Unsupported operator aten::embedding encountered 1 time(s)\n",
            "Unsupported operator aten::add encountered 29 time(s)\n",
            "Unsupported operator aten::silu encountered 8 time(s)\n",
            "Unsupported operator aten::log_sigmoid encountered 4 time(s)\n",
            "Unsupported operator aten::cumsum encountered 4 time(s)\n",
            "Unsupported operator aten::repeat encountered 4 time(s)\n",
            "Unsupported operator aten::sub encountered 8 time(s)\n",
            "Unsupported operator aten::where encountered 4 time(s)\n",
            "Unsupported operator aten::exp encountered 8 time(s)\n",
            "Unsupported operator aten::div encountered 8 time(s)\n",
            "Unsupported operator aten::mul encountered 20 time(s)\n",
            "Unsupported operator aten::sum encountered 4 time(s)\n",
            "Unsupported operator aten::abs encountered 4 time(s)\n",
            "Unsupported operator aten::neg encountered 4 time(s)\n",
            "Unsupported operator aten::maximum encountered 4 time(s)\n",
            "Total FLOPS (batch_size=2048, seq-len=):  0.205387776 GFLOPS\n",
            "  7% 270/3711 [03:37<46:05,  1.24it/s]"
          ]
        }
      ],
      "source": [
        "!python chemxlstm/train.py --model_class xLSTM --model_dim 256 --state_dim 64 --n_layers 4 --n_heads 1 --n_max_epochs 100 --batch_size 512 --device cuda:0 --learning_rate 5e-3 --dropout 0.25 --vocab_size 37 --sequence_length 100 --logdir ./models/ --training_molecules_path ./data/chemblv31/train.zip --val_molecules_path ./data/chemblv31/valid.zip --patience 5 --delta 1e-5 --save_per_epoch 3 --no_denovodesign"
      ]
    }
  ],
  "metadata": {
    "accelerator": "GPU",
    "colab": {
      "gpuType": "T4",
      "provenance": []
    },
    "kernelspec": {
      "display_name": "Python 3",
      "name": "python3"
    },
    "language_info": {
      "name": "python"
    }
  },
  "nbformat": 4,
  "nbformat_minor": 0
}
